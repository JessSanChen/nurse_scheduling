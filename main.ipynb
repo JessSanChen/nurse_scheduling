{
 "cells": [
  {
   "cell_type": "code",
   "execution_count": 1,
   "id": "830dee24",
   "metadata": {},
   "outputs": [],
   "source": [
    "import json\n",
    "import numpy as np\n",
    "import random\n",
    "import sys\n",
    "import gymnasium as gym\n",
    "from gymnasium import Env, spaces\n",
    "from stable_baselines3 import PPO\n",
    "from stable_baselines3.common.env_checker import check_env\n",
    "from stable_baselines3.common.callbacks import BaseCallback"
   ]
  },
  {
   "cell_type": "markdown",
   "id": "e539d3e3",
   "metadata": {},
   "source": [
    "## **Hypeparameters**"
   ]
  },
  {
   "cell_type": "code",
   "execution_count": 2,
   "id": "b65d43ee",
   "metadata": {},
   "outputs": [],
   "source": [
    "OVERTIME_P = 1.0  # willingness of nurses to work overtime\n",
    "ABSENCE_P = 1.0   # probability of absence"
   ]
  },
  {
   "cell_type": "code",
   "execution_count": 3,
   "id": "23fa6425",
   "metadata": {},
   "outputs": [],
   "source": [
    "OFF_SHIFTS = [\"resting\", \"absent\", \"standby\"]"
   ]
  },
  {
   "cell_type": "markdown",
   "id": "94ee0e6f",
   "metadata": {},
   "source": [
    "## **Nurse Class**"
   ]
  },
  {
   "cell_type": "code",
   "execution_count": 4,
   "id": "46a4f55e",
   "metadata": {},
   "outputs": [],
   "source": [
    "class Nurse():\n",
    "    def __init__(self, id, index, assignments, contract_id, contract_details, shiftoffrequests, OVERTIME_P=OVERTIME_P):\n",
    "        self.id = id      # ex: Nurse_1\n",
    "        self.index = index       # ex: 0 (associated with place in JSON lists)\n",
    "        \n",
    "        self.overtime_shifts = 0 # nobody has overtime for now\n",
    "        self.overtime_willingness = OVERTIME_P # always accept overtime\n",
    "        \n",
    "        # contract details\n",
    "        self.contract_id = contract_id\n",
    "        self.contract_details = contract_details\n",
    "        self.max_assignments = self.contract_details[\"MaximumNumberOfAssignments\"]\n",
    "        \n",
    "        # assignments\n",
    "        self.assignments = [self.convert_shift(shift) for shift in assignments]\n",
    "        self.num_assignments = len([x for x in self.assignments if x not in OFF_SHIFTS])\n",
    "        self.remaining_available_days = self.max_assignments - self.num_assignments\n",
    "        \n",
    "        # shiftoffrequests\n",
    "        self.shiftoffrequests = shiftoffrequests\n",
    "    \n",
    "    def convert_shift(self, shift):\n",
    "        if shift == \"A\": \n",
    "            return \"absent\"\n",
    "        elif shift == \"S\":\n",
    "            return \"standby\"\n",
    "        elif shift == \"R\":\n",
    "            return \"resting\"\n",
    "        else:\n",
    "            return \"working\"\n",
    "    \n",
    "    def sample_overtime(self):\n",
    "        # TODO: CHANGE TO DISTRIBUTION LATER\n",
    "        return self.overtime_willingness"
   ]
  },
  {
   "cell_type": "markdown",
   "id": "29bba700",
   "metadata": {},
   "source": [
    "## **Scheduling Simulation Environment**"
   ]
  },
  {
   "cell_type": "markdown",
   "id": "dd00d075",
   "metadata": {},
   "source": [
    "To make sure that the environment is compatible with `gym`, we will make the `SchedulingEnv` class inherit from `gym.Env`."
   ]
  },
  {
   "cell_type": "code",
   "execution_count": 5,
   "id": "506238bf",
   "metadata": {},
   "outputs": [],
   "source": [
    "class SchedulingEnv(Env):\n",
    "    def __init__(self, data_path, solution_path, OVERTIME_P=OVERTIME_P, ABSENCE_P=ABSENCE_P):\n",
    "        \"\"\"\n",
    "        Properties of SchedulingEnv:\n",
    "            self.data: data JSON\n",
    "            self.solution: solution JSON\n",
    "            self.NUM_DAYS: number of days in instance (int)\n",
    "            self.NUM_NURSES: number of nurses in instance (int)\n",
    "            self.shiftoffrequests: ???\n",
    "            self.ALL_NURSEIDS_SET: set of all nurse ids - set(int)\n",
    "            self.nurses_dict: {nurse id (string): nurse object (Nurse class)}\n",
    "            self.nurse_status_dict: {status: set of nurse IDs per day (list)}\n",
    "            self.init_state: NUM_DAYS x NUM_NURSES int matrix\n",
    "            self.state: NUM_DAYS x NUM_NURSES int matrix\n",
    "        \"\"\"\n",
    "        # Open JSONs\n",
    "        with open(data_path) as f:\n",
    "            self.data = json.load(f)\n",
    "        with open(solution_path) as f:\n",
    "            self.solution = json.load(f)\n",
    "\n",
    "        self.NUM_DAYS = len(self.solution[\"Solution\"][0][\"Assignments\"])\n",
    "        self.NUM_NURSES = len(self.solution[\"Solution\"])\n",
    "        self.OVERTIME_P = OVERTIME_P\n",
    "        self.ABSENCE_P = ABSENCE_P\n",
    "        self.statuses = {\"absent\": 0, \"working\": 1, \"standby\": 2, \"resting\": 3}\n",
    "\n",
    "        self.reset_env()\n",
    "    \n",
    "    def reset_env(self):\n",
    "        self.init_shiftoffrequests()\n",
    "        self.init_nurse_dict()\n",
    "        self.init_nurse_status_dict()\n",
    "        self.init_init_state()\n",
    "    \n",
    "    def init_shiftoffrequests(self):\n",
    "        self.shiftoffrequests = dict()\n",
    "        for request in self.data[\"Shiftoffrequests\"]:\n",
    "            if request[\"id\"] not in self.shiftoffrequests:\n",
    "                self.shiftoffrequests[request[\"id\"]] = list()\n",
    "            self.shiftoffrequests[request[\"id\"]].append({request[\"day\"]:request[\"shift\"]})\n",
    "\n",
    "    def parse_contract(self, contract_id):\n",
    "        contract_details = {}\n",
    "        if contract_id == \"Contract_1\":\n",
    "            contract_details = self.data[\"Contracts\"][0]\n",
    "        elif contract_id == \"Contract_2\":\n",
    "            contract_details = self.data[\"Contracts\"][1]\n",
    "        else:\n",
    "            print(\"Invalid contract id.\")\n",
    "            sys.exit(1)\n",
    "        return contract_details\n",
    "    \n",
    "    def init_nurse_dict(self):\n",
    "        self.ALL_NURSEIDS_SET = set()\n",
    "        self.nurses_dict = dict()\n",
    "            \n",
    "        # make nurse objects, stores shifts in list\n",
    "        for index, nurse_sol in enumerate(self.solution[\"Solution\"]):  \n",
    "            nurse_id = nurse_sol[\"id\"]\n",
    "            assignments = [day[\"shift\"] for day in nurse_sol[\"Assignments\"]]\n",
    "            contract_id = self.data[\"Nurses\"][index][\"contract_id\"]\n",
    "            contract_details = self.parse_contract(contract_id)\n",
    "            if nurse_id in self.shiftoffrequests:\n",
    "                nurse_requests = self.shiftoffrequests[nurse_id]\n",
    "            else: nurse_requests = []\n",
    "            \n",
    "            # Add to nurse dictionary\n",
    "            new_nurse = Nurse(nurse_id, index, assignments,contract_id, contract_details, nurse_requests, OVERTIME_P=OVERTIME_P)\n",
    "            self.nurses_dict[nurse_id] = new_nurse\n",
    "            \n",
    "            # Add to nurse ID set\n",
    "            self.ALL_NURSEIDS_SET.add(nurse_id) \n",
    "\n",
    "    def init_nurse_status_dict(self):\n",
    "        self.nurse_status_dict = {\n",
    "            status: [set(id for id, nurse in self.nurses_dict.items() if nurse.assignments[day] == status)\n",
    "                    for day in range(self.NUM_DAYS)]\n",
    "            for status in OFF_SHIFTS\n",
    "        }\n",
    "\n",
    "        self.nurse_status_dict[\"working\"] = [set([id for id, nurse in self.nurses_dict.items() if nurse.assignments[day] not in OFF_SHIFTS]) \n",
    "                                            for day in range(self.NUM_DAYS)]\n",
    "    \n",
    "    def init_init_state(self):\n",
    "        self.init_state = np.zeros((self.NUM_DAYS, self.NUM_NURSES), dtype=np.uint32)\n",
    "        for status, days in self.nurse_status_dict.items():\n",
    "            for day, nurses in enumerate(days):\n",
    "                for nurse_id in nurses:\n",
    "                    nurse = self.nurses_dict[nurse_id]\n",
    "                    self.init_state[day][nurse.index] = self.statuses[status]"
   ]
  },
  {
   "cell_type": "code",
   "execution_count": 6,
   "id": "5154d6ca",
   "metadata": {},
   "outputs": [],
   "source": [
    "data_path = 'data/W1-01.json'\n",
    "solution_path = 'solutions/sol-W1-01.json'"
   ]
  },
  {
   "cell_type": "markdown",
   "id": "ffa37382",
   "metadata": {},
   "source": [
    "________________"
   ]
  },
  {
   "cell_type": "markdown",
   "id": "1d409cd8",
   "metadata": {},
   "source": [
    "## **Reinforcement Learning Model**"
   ]
  },
  {
   "cell_type": "markdown",
   "id": "a83778b1",
   "metadata": {},
   "source": [
    "We define a new class, `RlSchedEnv` that inherits from our general `SchedulingEnv` class. This class is our RL environment, compatible with `gym`."
   ]
  },
  {
   "cell_type": "code",
   "execution_count": 7,
   "id": "a058658c",
   "metadata": {},
   "outputs": [],
   "source": [
    "class RlSchedEnv(SchedulingEnv):\n",
    "    def __init__(self, data_path, solution_path, ABSENCE_P=ABSENCE_P):\n",
    "        super().__init__(data_path, solution_path, ABSENCE_P=ABSENCE_P)\n",
    "\n",
    "        # Constants\n",
    "        self.NUM_ACTIONS = 3 # 0: swap, 1: overtime, 2: no change\n",
    "        self.NUM_STATUSES = 4 # 0: absent, 1: working, 2: standby, 3: resting\n",
    "        self.statuses = {\"absent\": 0, \"working\": 1, \"standby\": 2, \"resting\": 3}\n",
    "        self.rewards = {\n",
    "            \"swap success\": 10,\n",
    "            \"swap fail\": -1,\n",
    "            \"overtime success\": 3,\n",
    "            \"overtime fail\": -1,\n",
    "            \"unchanged\": -5,\n",
    "        }\n",
    "    \n",
    "        # Action and observation space\n",
    "        self.action_space = spaces.Discrete(self.NUM_ACTIONS)\n",
    "        self.observation_space = spaces.Box(low=0, high=self.NUM_STATUSES-1,\n",
    "                                            shape=(self.NUM_DAYS, self.NUM_NURSES), \n",
    "                                            dtype=np.uint32)    \n",
    "        self.reset()\n",
    "\n",
    "    def step(self, action):\n",
    "        self.sim_absence()\n",
    "        # print(\"Day\", self.curr_day, \"Absent Nurse:\", self.abs_nurse_id)\n",
    "\n",
    "        # Take action to handle nurse absence\n",
    "        if self.abs_nurse_id:\n",
    "            # Attempt to swap shifts\n",
    "            if action == 0:\n",
    "                self.attempt_swap()\n",
    "            # Request overtime\n",
    "            elif action == 1:\n",
    "                self.attempt_overtime()\n",
    "            # No change\n",
    "            elif action == 2:\n",
    "                self.actions.append(\"Unchanged\")\n",
    "                self.reward += self.rewards[\"unchanged\"]\n",
    "\n",
    "            # Increment time step, limit to total number of days\n",
    "            self.curr_day += 1\n",
    "            if self.curr_day >= self.NUM_DAYS:\n",
    "                self.terminated = True\n",
    "                # print(\"Actions:\", self.actions)\n",
    "                # print(\"Final Reward:\", self.reward)\n",
    "                # print()\n",
    "        else:\n",
    "            self.actions.append(\"No Absence\")\n",
    "        \n",
    "        # obs, reward, terminated, truncated, info\n",
    "        return self.state, self.reward, self.terminated, False, {}\n",
    "\n",
    "    def update_nurse(self, id, day, prev_status, new_status, change):\n",
    "        \"\"\"\n",
    "        id: nurse id\n",
    "        day: day of change\n",
    "        prev_status: current status of nurse on specified day\n",
    "        new_status: new status of nurse on specified day\n",
    "        change: the increase in number of shifts\n",
    "        \"\"\"\n",
    "        # Update nurse object\n",
    "        nurse = self.nurses_dict[id]\n",
    "        nurse.assignments[day] = new_status\n",
    "        nurse.num_assignments += change\n",
    "        nurse.remaining_available_days -= change\n",
    "\n",
    "        # Update environment\n",
    "        self.nurse_status_dict[prev_status][day].remove(id)\n",
    "        self.nurse_status_dict[new_status][day].add(id)\n",
    "\n",
    "        # Update state\n",
    "        self.state[day][nurse.index] = self.statuses[new_status]\n",
    "\n",
    "    def sim_absence(self):\n",
    "        \"\"\"\n",
    "        Simulates a potential absence with probability `ABSENCE_P`.\n",
    "        If an absence occurs, randomly selects one nurse to be absent\n",
    "        for the current day and updates the state.\n",
    "        \"\"\"\n",
    "        if random.random() < self.ABSENCE_P:\n",
    "            self.abs_nurse_id = random.choice(list(self.nurse_status_dict[\"working\"][self.curr_day]))\n",
    "            self.update_nurse(self.abs_nurse_id, self.curr_day, \"working\", \"absent\", -1)\n",
    "        else:\n",
    "            self.abs_nurse_id = None\n",
    "    \n",
    "    def find_compatible_swap(self, statuses):\n",
    "        \"\"\"\n",
    "        Returns nurse_id, swap_day, status if there is a compatible \n",
    "        swap with absent nurse on current day\n",
    "        Else returns None, None, None\n",
    "        \"\"\"\n",
    "        abs_nurse = self.nurses_dict[self.abs_nurse_id]\n",
    "        for s in statuses:\n",
    "            for id in self.nurse_status_dict[s][self.curr_day]:\n",
    "                nurse = self.nurses_dict[id]\n",
    "                # Skip overtime nurses\n",
    "                if s == \"resting\" and nurse.remaining_available_days <= 0:\n",
    "                    continue\n",
    "                # Find a later day where nurse is working and absent nurse is not\n",
    "                for day in range(self.curr_day+1, self.NUM_DAYS):\n",
    "                    if nurse.assignments[day] == \"working\" and abs_nurse.assignments[day] != \"working\":\n",
    "                        return id, day, s, abs_nurse.assignments[day]\n",
    "                    \n",
    "        return None, None, None, None\n",
    "    \n",
    "    def attempt_swap(self):\n",
    "        nurse_id, swap_day, status, abs_status = self.find_compatible_swap([\"standby\", \"resting\"])\n",
    "        if nurse_id is None:\n",
    "            self.actions.append(\"Failed Swap\")\n",
    "            self.reward += self.rewards[\"swap fail\"]\n",
    "            return\n",
    "    \n",
    "        self.actions.append(status)\n",
    "        self.reward += self.rewards[\"swap success\"]\n",
    "        \n",
    "        # Update nurse schedules\n",
    "        self.update_nurse(self.abs_nurse_id, swap_day, abs_status, \"working\", 1)\n",
    "        self.update_nurse(nurse_id, self.curr_day, status, \"working\", 1)\n",
    "        self.update_nurse(nurse_id, swap_day, \"working\", \"absent\", -1)\n",
    "\n",
    "    def get_overtime_nurse(self):\n",
    "        for id in self.nurse_status_dict[\"resting\"][self.curr_day]:\n",
    "            nurse = self.nurses_dict[id]\n",
    "            # Only overtime nurses\n",
    "            if nurse.remaining_available_days > 0:\n",
    "                continue\n",
    "            if random.random() < nurse.sample_overtime():\n",
    "                return id\n",
    "        return None\n",
    "\n",
    "    def attempt_overtime(self):\n",
    "        nurse_id = self.get_overtime_nurse()\n",
    "        if not nurse_id:\n",
    "            self.actions.append(\"Failed Overtime\")\n",
    "            self.reward += self.rewards[\"overtime fail\"]\n",
    "            return\n",
    "\n",
    "        self.actions.append(\"overtime\")\n",
    "        self.reward += self.rewards[\"swap success\"]\n",
    "        self.update_nurse(nurse_id, self.curr_day, \"resting\", \"working\", 1)\n",
    "\n",
    "    def reset(self, seed=None, options=None):\n",
    "        self.reset_env()\n",
    "        self.state = self.init_state.copy()\n",
    "        self.terminated = False\n",
    "        self.curr_day = 0 # timestep\n",
    "        self.actions = []\n",
    "        self.abs_nurse_id = None\n",
    "        self.reward = 0\n",
    "        return self.state, {}"
   ]
  },
  {
   "cell_type": "code",
   "execution_count": 8,
   "id": "dc81fefe",
   "metadata": {},
   "outputs": [
    {
     "name": "stderr",
     "output_type": "stream",
     "text": [
      "/Users/weili/micromamba/envs/cs109a/lib/python3.12/site-packages/stable_baselines3/common/env_checker.py:271: UserWarning: Your observation  has an unconventional shape (neither an image, nor a 1D vector). We recommend you to flatten the observation to have only a 1D vector or use a custom policy to properly process the data.\n",
      "  warnings.warn(\n"
     ]
    }
   ],
   "source": [
    "env = RlSchedEnv(data_path, solution_path)\n",
    "check_env(env)"
   ]
  },
  {
   "cell_type": "code",
   "execution_count": 9,
   "id": "2c7ea167",
   "metadata": {},
   "outputs": [],
   "source": [
    "RL_model = PPO(\"MlpPolicy\", env).learn(total_timesteps=30)"
   ]
  },
  {
   "cell_type": "markdown",
   "id": "a7556cb4",
   "metadata": {},
   "source": [
    "### **Results**"
   ]
  },
  {
   "cell_type": "code",
   "execution_count": 17,
   "id": "607bdaf4",
   "metadata": {},
   "outputs": [],
   "source": [
    "class RewardTrackingCallback(BaseCallback):\n",
    "    \"\"\"\n",
    "    Custom callback to track episode rewards during training.\n",
    "    \"\"\"\n",
    "\n",
    "    def __init__(self, verbose=0):\n",
    "        super(RewardTrackingCallback, self).__init__(verbose)\n",
    "        self.rewards = []\n",
    "\n",
    "    def _on_step(self) -> bool:\n",
    "        # Track rewards per episode\n",
    "        if \"infos\" in self.locals:\n",
    "            for info in self.locals[\"infos\"]:\n",
    "                if \"episode\" in info:\n",
    "                    self.rewards.append(info[\"episode\"][\"r\"])\n",
    "        return True\n",
    "\n",
    "    def _on_training_end(self) -> None:\n",
    "        # Save rewards to analyze after training\n",
    "        np.save(\"training_rewards.npy\", self.rewards)\n"
   ]
  },
  {
   "cell_type": "code",
   "execution_count": 12,
   "id": "55d076b2",
   "metadata": {},
   "outputs": [
    {
     "data": {
      "text/plain": [
       "<stable_baselines3.ppo.ppo.PPO at 0x16d4b2c90>"
      ]
     },
     "execution_count": 12,
     "metadata": {},
     "output_type": "execute_result"
    }
   ],
   "source": [
    "# Create an environment instance\n",
    "env = RlSchedEnv(data_path, solution_path)\n",
    "\n",
    "NUM_EPISODES = 500\n",
    "TIMESTEPS = env.NUM_DAYS * NUM_EPISODES\n",
    "\n",
    "# Instantiate the PPO model\n",
    "model = PPO(\"MlpPolicy\", env)\n",
    "\n",
    "# Create the reward tracking callback\n",
    "reward_callback = RewardTrackingCallback()\n",
    "\n",
    "# Train the model with the callback\n",
    "model.learn(total_timesteps=TIMESTEPS, callback=reward_callback)"
   ]
  },
  {
   "cell_type": "code",
   "execution_count": 13,
   "id": "17b68ebb",
   "metadata": {},
   "outputs": [
    {
     "data": {
      "image/png": "[encoded data removed]",
      "text/plain": [
       "<Figure size 1000x600 with 1 Axes>"
      ]
     },
     "metadata": {},
     "output_type": "display_data"
    }
   ],
   "source": [
    "import matplotlib.pyplot as plt\n",
    "import numpy as np\n",
    "\n",
    "# Load the saved rewards\n",
    "rewards = np.load(\"training_rewards.npy\")\n",
    "\n",
    "# Plot the rewards\n",
    "plt.figure(figsize=(10, 6))\n",
    "plt.plot(rewards, label=\"Episode Reward\")\n",
    "plt.xlabel(\"Episode\")\n",
    "plt.ylabel(\"Total Reward\")\n",
    "plt.title(\"Training Rewards Over Time\")\n",
    "plt.legend()\n",
    "plt.grid(True)\n",
    "plt.show()"
   ]
  },
  {
   "cell_type": "markdown",
   "id": "f0d3bc8c",
   "metadata": {},
   "source": [
    "_________________"
   ]
  },
  {
   "cell_type": "markdown",
   "id": "73af44fb",
   "metadata": {},
   "source": [
    "## **Greedy Heuristic Model**"
   ]
  },
  {
   "cell_type": "code",
   "execution_count": 14,
   "id": "465dd28b",
   "metadata": {},
   "outputs": [],
   "source": [
    "class GreedySchedEnv(SchedulingEnv):\n",
    "    def __init__(self, data_path, solution_path):\n",
    "        super().__init__(data_path, solution_path)\n",
    "        # TODO: modify class"
   ]
  }
 ],
 "metadata": {
  "kernelspec": {
   "display_name": "Python 3 (ipykernel)",
   "language": "python",
   "name": "python3"
  },
  "language_info": {
   "codemirror_mode": {
    "name": "ipython",
    "version": 3
   },
   "file_extension": ".py",
   "mimetype": "text/x-python",
   "name": "python",
   "nbconvert_exporter": "python",
   "pygments_lexer": "ipython3",
   "version": "3.12.5"
  }
 },
 "nbformat": 4,
 "nbformat_minor": 5
}
